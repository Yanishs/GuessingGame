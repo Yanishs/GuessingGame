{
 "cells": [
  {
   "cell_type": "code",
   "execution_count": null,
   "metadata": {},
   "outputs": [],
   "source": [
    "import random\n",
    "number = int(random.randint(0,100))"
   ]
  },
  {
   "cell_type": "markdown",
   "metadata": {},
   "source": [
    "number\n"
   ]
  },
  {
   "cell_type": "code",
   "execution_count": null,
   "metadata": {},
   "outputs": [],
   "source": [
    "number"
   ]
  },
  {
   "cell_type": "code",
   "execution_count": 1,
   "metadata": {},
   "outputs": [
    {
     "name": "stdout",
     "output_type": "stream",
     "text": [
      "Welcome to Guessing game\n",
      "I have a number between 0-100, you have to guess it what number is it\n",
      "Rules are really simple\n",
      "I will say 'Warm' if you have guess the within 10 of the number and 'Cold' if it is more than 10\n",
      "I will say  'warmer' if your guess is closer than your previous guess and 'Colder' if it is farther\n",
      "So, lets begin\n",
      "Enter the number you have guessed:50\n",
      "COLD\n",
      "Enter the number you have guessed:45\n",
      "WARMER\n",
      "Enter the number you have guessed:40\n",
      "WARMER\n",
      "Enter the number you have guessed:39\n",
      "WARMER\n",
      "Enter the number you have guessed:35\n",
      "WARMER\n",
      "Enter the number you have guessed:30\n",
      "WARMER\n",
      "Enter the number you have guessed:31\n",
      "COLDER\n",
      "Enter the number you have guessed:32\n",
      "COLDER\n",
      "Enter the number you have guessed:30\n",
      "WARMER\n",
      "Enter the number you have guessed:29\n",
      "WARMER\n",
      "Enter the number you have guessed:25\n",
      "WARMER\n",
      "Enter the number you have guessed:22\n",
      "WARMER\n",
      "Enter the number you have guessed:20\n",
      "WARMER\n",
      "Enter the number you have guessed:15\n",
      "COLDER\n",
      "Enter the number you have guessed:18\n",
      "WARMER\n",
      "Enter the number you have guessed:19\n",
      "Congratulation you have guess right number in 16 tries\n",
      "Do you want to play again?  n\n"
     ]
    }
   ],
   "source": [
    "a = True\n",
    "while a:\n",
    "\n",
    "    import random\n",
    "    number = int(random.randint(0,100))\n",
    "\n",
    "    print(\"Welcome to Guessing game\")\n",
    "    print(\"I have a number between 0-100, you have to guess it what number is it\")\n",
    "    print(\"Rules are really simple\")\n",
    "    print(\"I will say 'Warm' if you have guess the within 10 of the number and 'Cold' if it is more than 10\")\n",
    "    print(\"I will say  'warmer' if your guess is closer than your previous guess and 'Colder' if it is farther\")\n",
    "    print(\"So, lets begin\")\n",
    "\n",
    "    guesses = [0]\n",
    "\n",
    "    while True:\n",
    "        guess = int(input(\"Enter the number you have guessed:\"))\n",
    "\n",
    "        if guess<0 or guess >100:\n",
    "            print(\"Out of bounds\")\n",
    "            continue\n",
    "\n",
    "        if guess== number:\n",
    "            print(\"Congratulation you have guess right number in {} tries\".format(len(guesses)))\n",
    "            choice = input(\"Do you want to play again?  \")\n",
    "            if choice == 'y':\n",
    "                a = True\n",
    "            else:\n",
    "                a = False\n",
    "                \n",
    "            break\n",
    "\n",
    "\n",
    "\n",
    "        guesses.append(guess)\n",
    "\n",
    "        if guesses[-2]:\n",
    "            if abs(number-guess)<abs(number-guesses[-2]):\n",
    "                print(\"WARMER\")\n",
    "\n",
    "            else:\n",
    "                print(\"COLDER\")\n",
    "\n",
    "        else:\n",
    "            if abs(number-guess)<=10:\n",
    "                print(\"WARM\")\n",
    "            else:\n",
    "                print(\"COLD\")\n",
    "\n"
   ]
  },
  {
   "cell_type": "code",
   "execution_count": null,
   "metadata": {},
   "outputs": [],
   "source": []
  }
 ],
 "metadata": {
  "kernelspec": {
   "display_name": "Python 3",
   "language": "python",
   "name": "python3"
  },
  "language_info": {
   "codemirror_mode": {
    "name": "ipython",
    "version": 3
   },
   "file_extension": ".py",
   "mimetype": "text/x-python",
   "name": "python",
   "nbconvert_exporter": "python",
   "pygments_lexer": "ipython3",
   "version": "3.7.3"
  }
 },
 "nbformat": 4,
 "nbformat_minor": 2
}
